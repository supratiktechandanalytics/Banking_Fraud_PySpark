{
 "cells": [
  {
   "cell_type": "code",
   "execution_count": 11,
   "id": "7b91ef7f-cb12-4932-b5f5-b76ef2e0023c",
   "metadata": {},
   "outputs": [],
   "source": [
    "# BIG DATA Project on Online Banking Analysis\n",
    "\n",
    "#BY -:\n",
    "\n",
     "# Supratik Sarkar\n"
   ]
  },
  {
   "cell_type": "code",
   "execution_count": 3,
   "id": "90939705",
   "metadata": {},
   "outputs": [],
   "source": [
    "import findspark\n",
    "findspark.init()\n",
    "import pyspark\n",
    "from pyspark.sql import SparkSession\n",
    "spark = SparkSession.builder.getOrCreate()\n",
    "from pyspark.sql.functions import *"
   ]
  },
  {
   "cell_type": "markdown",
   "id": "4d22e9cc",
   "metadata": {},
   "source": [
    "# LOAN DATASET #"
   ]
  },
  {
   "cell_type": "code",
   "execution_count": 9,
   "id": "61ff6326",
   "metadata": {},
   "outputs": [],
   "source": [
    "df = spark.read.csv(\"loan.csv\", inferSchema = True, header = True)"
   ]
  },
  {
   "cell_type": "code",
   "execution_count": 9,
   "id": "87e4d89a",
   "metadata": {
    "scrolled": true
   },
   "outputs": [
    {
     "name": "stdout",
     "output_type": "stream",
     "text": [
      "root\n",
      " |-- Customer_ID: string (nullable = true)\n",
      " |-- Age: integer (nullable = true)\n",
      " |-- Gender: string (nullable = true)\n",
      " |-- Occupation: string (nullable = true)\n",
      " |-- Marital Status: string (nullable = true)\n",
      " |-- Family Size: integer (nullable = true)\n",
      " |-- Income: integer (nullable = true)\n",
      " |-- Expenditure: integer (nullable = true)\n",
      " |-- Use Frequency: integer (nullable = true)\n",
      " |-- Loan Category: string (nullable = true)\n",
      " |-- Loan Amount: string (nullable = true)\n",
      " |-- Overdue: integer (nullable = true)\n",
      " |--  Debt Record: string (nullable = true)\n",
      " |--  Returned Cheque: integer (nullable = true)\n",
      " |--  Dishonour of Bill: integer (nullable = true)\n",
      "\n"
     ]
    }
   ],
   "source": [
    "df.printSchema()"
   ]
  },
  {
   "cell_type": "code",
   "execution_count": 10,
   "id": "8bd5b2ce",
   "metadata": {
    "scrolled": true
   },
   "outputs": [
    {
     "name": "stdout",
     "output_type": "stream",
     "text": [
      "+-----------+---+------+------------+--------------+-----------+------+-----------+-------------+-------------+-----------+-------+------------+----------------+------------------+\n",
      "|Customer_ID|Age|Gender|  Occupation|Marital Status|Family Size|Income|Expenditure|Use Frequency|Loan Category|Loan Amount|Overdue| Debt Record| Returned Cheque| Dishonour of Bill|\n",
      "+-----------+---+------+------------+--------------+-----------+------+-----------+-------------+-------------+-----------+-------+------------+----------------+------------------+\n",
      "|    IB14001| 30|  MALE|BANK MANAGER|        SINGLE|          4| 50000|      22199|            6|      HOUSING| 10,00,000 |      5|      42,898|               6|                 9|\n",
      "|    IB14008| 44|  MALE|   PROFESSOR|       MARRIED|          6| 51000|      19999|            4|     SHOPPING|     50,000|      3|      33,999|               1|                 5|\n",
      "|    IB14012| 30|FEMALE|     DENTIST|        SINGLE|          3| 58450|      27675|            5|   TRAVELLING|     75,000|      6|      20,876|               3|                 1|\n",
      "|    IB14018| 29|  MALE|     TEACHER|       MARRIED|          5| 45767|      12787|            3|    GOLD LOAN|  6,00,000 |      7|      11,000|               0|                 4|\n",
      "|    IB14022| 34|  MALE|      POLICE|        SINGLE|          4| 43521|      11999|            3|   AUTOMOBILE|  2,00,000 |      2|      43,898|               1|                 2|\n",
      "+-----------+---+------+------------+--------------+-----------+------+-----------+-------------+-------------+-----------+-------+------------+----------------+------------------+\n",
      "only showing top 5 rows\n",
      "\n"
     ]
    }
   ],
   "source": [
    "df.show(5)"
   ]
  },
  {
   "cell_type": "code",
   "execution_count": 6,
   "id": "e10fa58a",
   "metadata": {},
   "outputs": [
    {
     "data": {
      "text/plain": [
       "15"
      ]
     },
     "execution_count": 6,
     "metadata": {},
     "output_type": "execute_result"
    }
   ],
   "source": [
    "len(df.columns)"
   ]
  },
  {
   "cell_type": "code",
   "execution_count": 7,
   "id": "83383d08",
   "metadata": {},
   "outputs": [
    {
     "data": {
      "text/plain": [
       "500"
      ]
     },
     "execution_count": 7,
     "metadata": {},
     "output_type": "execute_result"
    }
   ],
   "source": [
    "df.count()"
   ]
  },
  {
   "cell_type": "code",
   "execution_count": 8,
   "id": "1256f51f",
   "metadata": {},
   "outputs": [
    {
     "data": {
      "text/plain": [
       "500"
      ]
     },
     "execution_count": 8,
     "metadata": {},
     "output_type": "execute_result"
    }
   ],
   "source": [
    "df.distinct().count()"
   ]
  },
  {
   "cell_type": "code",
   "execution_count": 13,
   "id": "b04f601a",
   "metadata": {
    "scrolled": true
   },
   "outputs": [
    {
     "name": "stdout",
     "output_type": "stream",
     "text": [
      "+------------------+-----+\n",
      "|     Loan Category|count|\n",
      "+------------------+-----+\n",
      "|         GOLD LOAN|   77|\n",
      "|           HOUSING|   67|\n",
      "|        AUTOMOBILE|   60|\n",
      "|        TRAVELLING|   53|\n",
      "|       RESTAURANTS|   41|\n",
      "|COMPUTER SOFTWARES|   35|\n",
      "|          SHOPPING|   35|\n",
      "|          BUSINESS|   24|\n",
      "|  EDUCATIONAL LOAN|   20|\n",
      "|        RESTAURANT|   20|\n",
      "|   HOME APPLIANCES|   14|\n",
      "|           DINNING|   14|\n",
      "|       ELECTRONICS|   14|\n",
      "|       AGRICULTURE|   12|\n",
      "|       BOOK STORES|    7|\n",
      "|          BUILDING|    7|\n",
      "+------------------+-----+\n",
      "\n"
     ]
    }
   ],
   "source": [
    "#number of loans in each category\n",
    "df.groupBy(\"Loan Category\").count().orderBy(\"count\", ascending = False).show()"
   ]
  },
  {
   "cell_type": "code",
   "execution_count": 14,
   "id": "43e8f7fc",
   "metadata": {},
   "outputs": [
    {
     "data": {
      "text/plain": [
       "379"
      ]
     },
     "execution_count": 14,
     "metadata": {},
     "output_type": "execute_result"
    }
   ],
   "source": [
    "#number of people who have taken more than 1 lack loan\n",
    "df.filter(df[\"Loan Amount\"]>\"1,00,000\").count()"
   ]
  },
  {
   "cell_type": "code",
   "execution_count": 18,
   "id": "957fafb0",
   "metadata": {
    "scrolled": true
   },
   "outputs": [
    {
     "data": {
      "text/plain": [
       "198"
      ]
     },
     "execution_count": 18,
     "metadata": {},
     "output_type": "execute_result"
    }
   ],
   "source": [
    "#number of people with income greater than 60000 rupees\n",
    "df.filter(df[\"Income\"]>\"60000\").count()"
   ]
  },
  {
   "cell_type": "code",
   "execution_count": 26,
   "id": "5c03f421",
   "metadata": {},
   "outputs": [
    {
     "data": {
      "text/plain": [
       "137"
      ]
     },
     "execution_count": 26,
     "metadata": {},
     "output_type": "execute_result"
    }
   ],
   "source": [
    "#number of people with 2 or more returned cheques and income less than 50000\n",
    "df.filter((df[\" Returned Cheque\"]>\"1\") & (df[\"Income\"]<\"50000\")).count()"
   ]
  },
  {
   "cell_type": "code",
   "execution_count": 27,
   "id": "df3cb381",
   "metadata": {},
   "outputs": [
    {
     "data": {
      "text/plain": [
       "283"
      ]
     },
     "execution_count": 27,
     "metadata": {},
     "output_type": "execute_result"
    }
   ],
   "source": [
    "#number of people with 2 or more returned cheques and are single\n",
    "df.filter((df[\" Returned Cheque\"]>\"1\") & (df[\"Marital Status\"]<\"SINGLE\")).count()"
   ]
  },
  {
   "cell_type": "code",
   "execution_count": 52,
   "id": "c5db11a6-1fa1-4294-a589-d34617cae0f5",
   "metadata": {},
   "outputs": [
    {
     "name": "stdout",
     "output_type": "stream",
     "text": [
      "+-----------+---+------+------------+--------------+-----------+------+-----------+-------------+-------------+-----------+-------+------------+----------------+------------------+\n",
      "|Customer_ID|Age|Gender|  Occupation|Marital Status|Family Size|Income|Expenditure|Use Frequency|Loan Category|Loan Amount|Overdue| Debt Record| Returned Cheque| Dishonour of Bill|\n",
      "+-----------+---+------+------------+--------------+-----------+------+-----------+-------------+-------------+-----------+-------+------------+----------------+------------------+\n",
      "|    IB14001| 30|  MALE|BANK MANAGER|        SINGLE|          4| 50000|      22199|            6|      HOUSING| 10,00,000 |      5|      42,898|               6|                 9|\n",
      "+-----------+---+------+------------+--------------+-----------+------+-----------+-------------+-------------+-----------+-------+------------+----------------+------------------+\n",
      "\n"
     ]
    }
   ],
   "source": [
    "\n"
   ]
  },
  {
   "cell_type": "code",
   "execution_count": 117,
   "id": "c112cb81-4194-47d5-a04f-a1e3fe8ff449",
   "metadata": {},
   "outputs": [
    {
     "name": "stdout",
     "output_type": "stream",
     "text": [
      "+-----------+---+------+--------------------+--------------+-----------+------+-----------+-------------+----------------+-----------+-------+------------+----------------+------------------+\n",
      "|Customer_ID|Age|Gender|          Occupation|Marital Status|Family Size|Income|Expenditure|Use Frequency|   Loan Category|Loan Amount|Overdue| Debt Record| Returned Cheque| Dishonour of Bill|\n",
      "+-----------+---+------+--------------------+--------------+-----------+------+-----------+-------------+----------------+-----------+-------+------------+----------------+------------------+\n",
      "|    IB14326| 37|  MALE|              DOCTOR|        SINGLE|          2| 56856|      23678|            7|      TRAVELLING|    588,690|      8|       87171|               4|                 3|\n",
      "|    IB14655| 52|FEMALE|        BANK MANAGER|        SINGLE|          3| 68918|      30676|            5|      AUTOMOBILE|  1,265,945|      5|       16997|               5|                 4|\n",
      "|    IB14489| 24|  MALE|             TEACHER|        SINGLE|          5| 74609|      20444|            4|     RESTAURANTS|    507,036|      2|       51858|               0|                 3|\n",
      "|    IB14737| 54|FEMALE|              POLICE|        SINGLE|          6| 62641|      36687|            4|         HOUSING|    898,353|      2|       26901|               1|                 3|\n",
      "|    IB14704| 48|  MALE|           EXECUTIVE|        SINGLE|          2| 57460|      48959|            2|        BUSINESS|  1,073,372|      5|       72858|               1|                 5|\n",
      "|    IB14667| 30|  MALE|AGRICULTURAL ENGI...|        SINGLE|          6| 85289|      49481|            3|         HOUSING|    679,588|      1|       21091|               3|                 3|\n",
      "|    IB14032| 24|  MALE|        DATA ANALYST|        SINGLE|          4| 60111|      28999|            6|      AUTOMOBILE|     35,232|      5|      33,333|               1|                 2|\n",
      "|    IB14220| 30|FEMALE|             DENTIST|        SINGLE|          3| 58450|      27675|            5|      TRAVELLING|     75,000|      6|      20,876|               3|                 1|\n",
      "|    IB14843| 43|  MALE|              DOCTOR|        SINGLE|          4| 50407|      34413|            4|     AGRICULTURE|  1,143,937|      9|       57977|               9|                 1|\n",
      "|    IB14729| 58|  MALE| CHARTERED APPRAISER|        SINGLE|          5| 70952|      15709|            9|      RESTAURANT|    204,833|      5|       20711|               5|                 4|\n",
      "|    IB14216| 24|  MALE|        DATA ANALYST|        SINGLE|          4| 60111|      28999|            6|     RESTAURANTS|     35,232|      5|      33,333|               1|                 2|\n",
      "|    IB14585| 52|FEMALE|               PILOT|        SINGLE|          7| 91853|      39629|            4|      RESTAURANT|  1,392,577|      6|       85269|               4|                 8|\n",
      "|    IB14991| 52|  MALE|               PILOT|        SINGLE|          7| 95853|      49629|            4|         HOUSING|  1,392,577|      6|       25269|               4|                 8|\n",
      "|    IB14697| 39|FEMALE|                NAVY|        SINGLE|          4| 77699|      12482|            3|      AUTOMOBILE|  1,410,206|      9|       57206|               2|                 8|\n",
      "|    IB15009| 48|  MALE|           EXECUTIVE|        SINGLE|          2| 67460|      45959|            2|        BUSINESS|  1,173,372|      5|       62858|               1|                 5|\n",
      "|    IB14699| 45|FEMALE|   SOFTWARE ENGINEER|        SINGLE|          4| 98199|      43464|            9|     ELECTRONICS|  1,719,010|      3|       86384|               4|                 8|\n",
      "|    IB14953| 29|  MALE|   SOFTWARE ENGINEER|        SINGLE|          5| 50454|      32210|            4|        SHOPPING|    763,036|      6|       36762|               7|                 9|\n",
      "|    IB14869| 44|  MALE|               CLERK|        SINGLE|          5| 51555|      12052|            2|EDUCATIONAL LOAN|  1,377,455|      8|       29981|               1|                 8|\n",
      "|    IB14889| 41|FEMALE|           DIETICIAN|        SINGLE|          3| 96501|      41529|            6|       GOLD LOAN|  1,694,354|      3|       35876|               2|                 8|\n",
      "|    IB14809| 28|FEMALE|          ACCOUNTANT|        SINGLE|          3| 76844|      27358|            7|      RESTAURANT|  1,582,924|      1|       73033|               2|                 1|\n",
      "+-----------+---+------+--------------------+--------------+-----------+------+-----------+-------------+----------------+-----------+-------+------------+----------------+------------------+\n",
      "only showing top 20 rows\n",
      "\n"
     ]
    }
   ],
   "source": [
    "rdd1 = df.filter(df[\"Marital Status\"]==\"SINGLE\")\n",
    "rdd2 = df.filter(df[\"Income\"]>\"50000\")\n",
    "result = rdd1.intersect(rdd2)\n",
    "result.show()"
   ]
  },
  {
   "cell_type": "code",
   "execution_count": 6,
   "id": "9366c41a",
   "metadata": {},
   "outputs": [
    {
     "name": "stdout",
     "output_type": "stream",
     "text": [
      "+-----------+---+------+---------------+--------------+-----------+------+-----------+-------------+-------------+-----------+-------+------------+----------------+------------------+\n",
      "|Customer_ID|Age|Gender|     Occupation|Marital Status|Family Size|Income|Expenditure|Use Frequency|Loan Category|Loan Amount|Overdue| Debt Record| Returned Cheque| Dishonour of Bill|\n",
      "+-----------+---+------+---------------+--------------+-----------+------+-----------+-------------+-------------+-----------+-------+------------+----------------+------------------+\n",
      "|    IB14158| 54|  MALE|AIRPORT OFFICER|       MARRIED|          6| 80000|      62541|            2|   AUTOMOBILE| 20,45,789 |      1|       16599|               2|                 3|\n",
      "|    IB14176| 54|  MALE|AIRPORT OFFICER|       MARRIED|          6| 80000|      62541|            2|      HOUSING| 20,45,789 |      1|       16599|               2|                 3|\n",
      "|    IB14204| 54|  MALE|AIRPORT OFFICER|       MARRIED|          6| 81000|      62541|            2|      DINNING| 20,45,789 |      1|       16599|               2|                 3|\n",
      "|    IB14227| 54|  MALE|AIRPORT OFFICER|       MARRIED|          6| 80000|      62541|            2|      HOUSING| 20,45,789 |      1|       16599|               2|                 3|\n",
      "|    IB14278| 41|  MALE|   BANK MANAGER|       MARRIED|          6| 64125|      51246|            6|   TRAVELLING|  6,52,147 |      5|       16524|               3|                 3|\n",
      "|    IB15024| 26|  MALE|      DIETICIAN|        SINGLE|          3| 95425|      53086|            2|      HOUSING|     488076|      4|       61227|               5|                 2|\n",
      "+-----------+---+------+---------------+--------------+-----------+------+-----------+-------------+-------------+-----------+-------+------------+----------------+------------------+\n",
      "\n"
     ]
    }
   ],
   "source": [
    "#number of people with expenditure over 50000 a month \n",
    "df.filter((df[\"Expenditure\"]>\"50000\")).show()"
   ]
  },
  {
   "cell_type": "markdown",
   "id": "5fc4368c",
   "metadata": {},
   "source": [
    "# CREDIT CARD DATASET #"
   ]
  },
  {
   "cell_type": "code",
   "execution_count": 8,
   "id": "48fe73aa",
   "metadata": {},
   "outputs": [],
   "source": [
    "dfc = spark.read.csv(\"credit card.csv\", inferSchema = True, header = True)"
   ]
  },
  {
   "cell_type": "code",
   "execution_count": 15,
   "id": "9be751d9",
   "metadata": {
    "scrolled": true
   },
   "outputs": [
    {
     "name": "stdout",
     "output_type": "stream",
     "text": [
      "root\n",
      " |-- RowNumber: integer (nullable = true)\n",
      " |-- CustomerId: integer (nullable = true)\n",
      " |-- Surname: string (nullable = true)\n",
      " |-- CreditScore: integer (nullable = true)\n",
      " |-- Geography: string (nullable = true)\n",
      " |-- Gender: string (nullable = true)\n",
      " |-- Age: integer (nullable = true)\n",
      " |-- Tenure: integer (nullable = true)\n",
      " |-- Balance: double (nullable = true)\n",
      " |-- NumOfProducts: integer (nullable = true)\n",
      " |-- IsActiveMember: integer (nullable = true)\n",
      " |-- EstimatedSalary: double (nullable = true)\n",
      " |-- Exited: integer (nullable = true)\n",
      "\n"
     ]
    }
   ],
   "source": [
    "dfc.printSchema()"
   ]
  },
  {
   "cell_type": "code",
   "execution_count": 17,
   "id": "9c6b2b32",
   "metadata": {},
   "outputs": [
    {
     "data": {
      "text/plain": [
       "13"
      ]
     },
     "execution_count": 17,
     "metadata": {},
     "output_type": "execute_result"
    }
   ],
   "source": [
    "len(dfc.columns)"
   ]
  },
  {
   "cell_type": "code",
   "execution_count": 16,
   "id": "439cad86",
   "metadata": {},
   "outputs": [
    {
     "data": {
      "text/plain": [
       "10000"
      ]
     },
     "execution_count": 16,
     "metadata": {},
     "output_type": "execute_result"
    }
   ],
   "source": [
    "dfc.count()"
   ]
  },
  {
   "cell_type": "code",
   "execution_count": 18,
   "id": "273e6dbf",
   "metadata": {},
   "outputs": [
    {
     "data": {
      "text/plain": [
       "10000"
      ]
     },
     "execution_count": 18,
     "metadata": {},
     "output_type": "execute_result"
    }
   ],
   "source": [
    "dfc.distinct().count()"
   ]
  },
  {
   "cell_type": "code",
   "execution_count": 11,
   "id": "13526ac8",
   "metadata": {},
   "outputs": [
    {
     "name": "stdout",
     "output_type": "stream",
     "text": [
      "+---------+----------+--------+-----------+---------+------+---+------+---------+-------------+--------------+---------------+------+\n",
      "|RowNumber|CustomerId| Surname|CreditScore|Geography|Gender|Age|Tenure|  Balance|NumOfProducts|IsActiveMember|EstimatedSalary|Exited|\n",
      "+---------+----------+--------+-----------+---------+------+---+------+---------+-------------+--------------+---------------+------+\n",
      "|        1|  15634602|Hargrave|        619|   France|Female| 42|     2|      0.0|            1|             1|      101348.88|     1|\n",
      "|        2|  15647311|    Hill|        608|    Spain|Female| 41|     1| 83807.86|            1|             1|      112542.58|     0|\n",
      "|        3|  15619304|    Onio|        502|   France|Female| 42|     8| 159660.8|            3|             0|      113931.57|     1|\n",
      "|        4|  15701354|    Boni|        699|   France|Female| 39|     1|      0.0|            2|             0|       93826.63|     0|\n",
      "|        5|  15737888|Mitchell|        850|    Spain|Female| 43|     2|125510.82|            1|             1|        79084.1|     0|\n",
      "+---------+----------+--------+-----------+---------+------+---+------+---------+-------------+--------------+---------------+------+\n",
      "only showing top 5 rows\n",
      "\n"
     ]
    }
   ],
   "source": [
    "dfc.show(5)"
   ]
  },
  {
   "cell_type": "code",
   "execution_count": 13,
   "id": "a4a66fb6",
   "metadata": {
    "scrolled": true
   },
   "outputs": [
    {
     "data": {
      "text/plain": [
       "3116"
      ]
     },
     "execution_count": 13,
     "metadata": {},
     "output_type": "execute_result"
    }
   ],
   "source": [
    "#number of members who are elgible for credit card\n",
    "dfc.filter(dfc[\"CreditScore\"]>700).count()"
   ]
  },
  {
   "cell_type": "code",
   "execution_count": 19,
   "id": "7ad5aeea",
   "metadata": {},
   "outputs": [
    {
     "data": {
      "text/plain": [
       "1637"
      ]
     },
     "execution_count": 19,
     "metadata": {},
     "output_type": "execute_result"
    }
   ],
   "source": [
    "#number of members who are  elgible and active in the bank\n",
    "dfc.filter((dfc[\"IsActiveMember\"]==1) & (dfc[\"CreditScore\"]>700)).count()"
   ]
  },
  {
   "cell_type": "code",
   "execution_count": 21,
   "id": "fb95f7f6",
   "metadata": {},
   "outputs": [
    {
     "name": "stdout",
     "output_type": "stream",
     "text": [
      "+---------+----------+---------+-----------+---------+------+---+------+---------+-------------+--------------+---------------+------+\n",
      "|RowNumber|CustomerId|  Surname|CreditScore|Geography|Gender|Age|Tenure|  Balance|NumOfProducts|IsActiveMember|EstimatedSalary|Exited|\n",
      "+---------+----------+---------+-----------+---------+------+---+------+---------+-------------+--------------+---------------+------+\n",
      "|        2|  15647311|     Hill|        608|    Spain|Female| 41|     1| 83807.86|            1|             1|      112542.58|     0|\n",
      "|        5|  15737888| Mitchell|        850|    Spain|Female| 43|     2|125510.82|            1|             1|        79084.1|     0|\n",
      "|        6|  15574012|      Chu|        645|    Spain|  Male| 44|     8|113755.78|            2|             0|      149756.71|     1|\n",
      "|       12|  15737173|  Andrews|        497|    Spain|  Male| 24|     3|      0.0|            2|             0|       76390.01|     0|\n",
      "|       15|  15600882|    Scott|        635|    Spain|Female| 35|     7|      0.0|            2|             1|       65951.65|     0|\n",
      "|       18|  15788218|Henderson|        549|    Spain|Female| 24|     9|      0.0|            2|             1|       14406.41|     0|\n",
      "|       19|  15661507|  Muldrow|        587|    Spain|  Male| 45|     6|      0.0|            1|             0|      158684.81|     0|\n",
      "|       22|  15597945| Dellucci|        636|    Spain|Female| 32|     8|      0.0|            2|             0|      138555.46|     0|\n",
      "|       23|  15699309|Gerasimov|        510|    Spain|Female| 38|     4|      0.0|            1|             0|      118913.53|     1|\n",
      "|       31|  15589475|  Azikiwe|        591|    Spain|Female| 39|     3|      0.0|            3|             0|      140469.38|     1|\n",
      "|       34|  15659428|  Maggard|        520|    Spain|Female| 42|     6|      0.0|            2|             1|       34410.55|     0|\n",
      "|       35|  15732963| Clements|        722|    Spain|Female| 29|     9|      0.0|            2|             1|      142033.07|     0|\n",
      "|       37|  15788448|   Watson|        490|    Spain|  Male| 31|     3|145260.23|            1|             1|      114066.77|     0|\n",
      "|       38|  15729599|  Lorenzo|        804|    Spain|  Male| 33|     7|  76548.6|            1|             1|       98453.45|     0|\n",
      "|       41|  15619360|    Hsiao|        472|    Spain|  Male| 40|     4|      0.0|            1|             0|       70154.22|     0|\n",
      "|       45|  15684171|  Bianchi|        660|    Spain|Female| 61|     5|155931.11|            1|             1|      158338.39|     0|\n",
      "|       59|  15623944|    T'ien|        511|    Spain|Female| 66|     4|      0.0|            1|             0|        1643.11|     1|\n",
      "|       63|  15702014|  Jeffrey|        555|    Spain|  Male| 33|     1| 56084.69|            2|             0|      178798.13|     0|\n",
      "|       64|  15751208|  Pirozzi|        684|    Spain|  Male| 56|     8| 78707.16|            1|             1|       99398.36|     0|\n",
      "|       73|  15812518|  Palermo|        657|    Spain|Female| 37|     0|163607.18|            1|             1|       44203.55|     0|\n",
      "+---------+----------+---------+-----------+---------+------+---+------+---------+-------------+--------------+---------------+------+\n",
      "only showing top 20 rows\n",
      "\n"
     ]
    }
   ],
   "source": [
    "#credit card users in Spain \n",
    "dfc.filter(dfc[\"Geography\"]==\"Spain\").show()"
   ]
  },
  {
   "cell_type": "code",
   "execution_count": 23,
   "id": "6ee4661a",
   "metadata": {},
   "outputs": [
    {
     "data": {
      "text/plain": [
       "1044"
      ]
     },
     "execution_count": 23,
     "metadata": {},
     "output_type": "execute_result"
    }
   ],
   "source": [
    "dfc.filter((dfc[\"EstimatedSalary\"]>100000) & (dfc[\"Exited\"]==1)).count()"
   ]
  },
  {
   "cell_type": "code",
   "execution_count": 70,
   "id": "498269ef-72b4-4f4d-8ffc-5d767c45392e",
   "metadata": {},
   "outputs": [
    {
     "name": "stdout",
     "output_type": "stream",
     "text": [
      "+---------+----------+----------+-----------+---------+------+---+------+---------+-------------+--------------+---------------+------+\n",
      "|RowNumber|CustomerId|   Surname|CreditScore|Geography|Gender|Age|Tenure|  Balance|NumOfProducts|IsActiveMember|EstimatedSalary|Exited|\n",
      "+---------+----------+----------+-----------+---------+------+---+------+---------+-------------+--------------+---------------+------+\n",
      "|      892|  15780140|  Bellucci|        435|  Germany|  Male| 32|     2| 57017.06|            2|             1|        5907.11|     0|\n",
      "|     1541|  15605950|Onwuamaeze|        530|  Germany|  Male| 23|     1|137060.88|            2|             1|      165227.23|     0|\n",
      "|     1828|  15740104|      Tuan|        425|    Spain|Female| 22|     7|169649.73|            2|             1|       136365.0|     1|\n",
      "|     2600|  15704844|    Hsiung|        550|    Spain|  Male| 62|     7| 80927.56|            1|             1|       64490.67|     0|\n",
      "|     3468|  15771509|     Hirst|        538|  Germany|Female| 42|     1| 98548.62|            2|             1|       94047.75|     0|\n",
      "|     4117|  15748068|     Boyle|        571|    Spain|Female| 31|     3|      0.0|            2|             1|      194667.92|     0|\n",
      "|     5473|  15804201|     Jones|        457|  Germany|  Male| 42|     4|126772.57|            1|             1|       126106.4|     0|\n",
      "|     6459|  15783526|  Le Hunte|        589|   France|  Male| 36|     1|100895.54|            1|             1|       68075.14|     0|\n",
      "|     7573|  15567919|   Lazarev|        586|  Germany|  Male| 37|     8|167735.69|            2|             1|      104665.79|     0|\n",
      "|     7865|  15594436|     Mazzi|        588|    Spain|  Male| 33|     2|      0.0|            2|             1|       12483.56|     0|\n",
      "|     7903|  15613962|   Kenechi|        499|   France|Female| 38|     9|      0.0|            2|             1|       183042.2|     0|\n",
      "|     1588|  15789548|  Giordano|        592|   France|Female| 37|     7|      0.0|            2|             1|      126726.33|     0|\n",
      "|     2813|  15581620|  Franklin|        597|   France|  Male| 28|     2|      0.0|            3|             1|       78707.97|     0|\n",
      "|     3147|  15730688|        Yu|        548|   France|Female| 28|     8| 116755.5|            2|             1|      158585.17|     1|\n",
      "|     4570|  15617082|   Sanders|        516|   France|  Male| 33|     7|115195.58|            1|             1|        11205.5|     0|\n",
      "|     4572|  15761775|     Myers|        598|  Germany|  Male| 20|     8|180293.84|            2|             1|        29552.7|     0|\n",
      "|     4796|  15691387| Agafonova|        483|   France|  Male| 29|     9|      0.0|            1|             1|       81634.45|     0|\n",
      "|     6937|  15679928|  Horsfall|        592|   France|Female| 31|     2| 84102.11|            2|             1|      116385.24|     0|\n",
      "|     7462|  15645571|  Genovese|        596|    Spain|  Male| 32|     4|      0.0|            2|             1|      146504.35|     0|\n",
      "|     7618|  15678779|   Quezada|        502|   France|  Male| 33|     7|      0.0|            2|             1|        4082.52|     0|\n",
      "+---------+----------+----------+-----------+---------+------+---+------+---------+-------------+--------------+---------------+------+\n",
      "only showing top 20 rows\n",
      "\n"
     ]
    }
   ],
   "source": [
    "#Eligibilty for people less than 600 credit score and is an active member\n",
    "\n",
    "rdd3 = dfc.filter(dfc[\"CreditScore\"]<\"600\")\n",
    "rdd4 = dfc.filter(dfc[\"IsActiveMember\"]==\"1\")\n",
    "result = rdd3.intersect(rdd4)\n",
    "result.show()"
   ]
  },
  {
   "cell_type": "code",
   "execution_count": 35,
   "id": "41df0d5e",
   "metadata": {},
   "outputs": [
    {
     "data": {
      "text/plain": [
       "2432"
      ]
     },
     "execution_count": 35,
     "metadata": {},
     "output_type": "execute_result"
    }
   ],
   "source": [
    "dfc.filter((dfc[\"EstimatedSalary\"]<100000) & (dfc[\"NumOfProducts\"]>1)).count()"
   ]
  },
  {
   "cell_type": "code",
   "execution_count": 73,
   "id": "e8b6b0a7-f29e-42d8-8a9d-dd337a88722d",
   "metadata": {},
   "outputs": [
    {
     "data": {
      "text/plain": [
       "7326"
      ]
     },
     "execution_count": 73,
     "metadata": {},
     "output_type": "execute_result"
    }
   ],
   "source": [
    "#Count of inactive members living in spain\n",
    "\n",
    "cc1 = dfc.filter(dfc[\"Geography\"]==\"Spain\")\n",
    "cc2 = dfc.filter(dfc[\"IsActiveMember\"]==\"0\")\n",
    "result = cc1.union(cc2)\n",
    "result.count()"
   ]
  },
  {
   "cell_type": "code",
   "execution_count": 84,
   "id": "5f94ddfe-14f6-4ea0-8ebb-6b652c131c1d",
   "metadata": {},
   "outputs": [
    {
     "name": "stdout",
     "output_type": "stream",
     "text": [
      "+---------+----------+-------------------+-----------+---------+------+---+------+--------+-------------+--------------+---------------+------+\n",
      "|RowNumber|CustomerId|            Surname|CreditScore|Geography|Gender|Age|Tenure| Balance|NumOfProducts|IsActiveMember|EstimatedSalary|Exited|\n",
      "+---------+----------+-------------------+-----------+---------+------+---+------+--------+-------------+--------------+---------------+------+\n",
      "|      612|  15603203|           Avdeyeva|        650|   France|Female| 27|     6|     0.0|            2|             0|        1002.39|     0|\n",
      "|     2758|  15566708|            Chidalu|        444|   France|Female| 45|     4|     0.0|            2|             0|       161653.5|     1|\n",
      "|     3256|  15671387|    Fetherstonhaugh|        507|   France|Female| 29|     4|89349.47|            2|             0|      180626.68|     0|\n",
      "|     3373|  15643967|            Chineze|        652|   France|Female| 37|     4|92208.54|            1|             1|       197699.8|     1|\n",
      "|     3519|  15600688|             Liston|        600|   France|Female| 39|     5|     0.0|            2|             0|      118272.07|     0|\n",
      "|     3659|  15661903|               Hsia|        699|   France|Female| 43|     3|80764.03|            1|             0|      199378.58|     1|\n",
      "|     6352|  15794472|            Brookes|        553|   France|Female| 27|     3|     0.0|            2|             0|      159800.16|     0|\n",
      "|     7325|  15810723|          Sanderson|        607|   France|Female| 39|    10|     0.0|            3|             0|      132741.13|     1|\n",
      "|     7903|  15613962|            Kenechi|        499|   France|Female| 38|     9|     0.0|            2|             1|       183042.2|     0|\n",
      "|     8674|  15707637|Zikoranachukwudimma|        765|   France|Female| 56|     1|     0.0|            1|             0|       13228.93|     1|\n",
      "|     9050|  15584288|               Hung|        629|   France|Female| 33|     6|     0.0|            2|             1|       59129.72|     0|\n",
      "|      475|  15603156|           Elewechi|        571|   France|Female| 33|     1|     0.0|            2|             0|       102750.7|     0|\n",
      "|     1391|  15727281|          Macintyre|        653|   France|Female| 27|     9|     0.0|            2|             0|       96429.29|     0|\n",
      "|     1502|  15801548|           Buckland|        661|   France|Female| 31|     7|144162.3|            2|             1|       14490.79|     0|\n",
      "|     1588|  15789548|           Giordano|        592|   France|Female| 37|     7|     0.0|            2|             1|      126726.33|     0|\n",
      "|     2415|  15806027|                Niu|        556|   France|Female| 52|     9|     0.0|            1|             0|       175149.2|     1|\n",
      "|     2871|  15651093|              Chien|        707|   France|Female| 55|     1|     0.0|            2|             1|       54409.48|     0|\n",
      "|     3147|  15730688|                 Yu|        548|   France|Female| 28|     8|116755.5|            2|             1|      158585.17|     1|\n",
      "|     6579|  15786078|            Loginov|        850|   France|Female| 28|     9|     0.0|            2|             0|      185821.41|     0|\n",
      "|     6937|  15679928|           Horsfall|        592|   France|Female| 31|     2|84102.11|            2|             1|      116385.24|     0|\n",
      "+---------+----------+-------------------+-----------+---------+------+---+------+--------+-------------+--------------+---------------+------+\n",
      "only showing top 20 rows\n",
      "\n"
     ]
    }
   ],
   "source": [
    "#Displaying France Female Users\n",
    "\n",
    "rdd1 = dfc.filter(dfc[\"Geography\"]==\"France\")\n",
    "rdd2 = dfc.filter(dfc[\"Gender\"]==\"Male\")\n",
    "result = rdd1.subtract(rdd2)\n",
    "result.show()\n"
   ]
  },
  {
   "cell_type": "code",
   "execution_count": 87,
   "id": "24f654b0-981b-4e96-bb93-892e86e1f8fc",
   "metadata": {},
   "outputs": [
    {
     "name": "stdout",
     "output_type": "stream",
     "text": [
      "+----------------+------+-------+-----+\n",
      "|Gender_Geography|France|Germany|Spain|\n",
      "+----------------+------+-------+-----+\n",
      "|            Male|  2753|   1316| 1388|\n",
      "|          Female|  2261|   1193| 1089|\n",
      "+----------------+------+-------+-----+\n",
      "\n"
     ]
    }
   ],
   "source": [
    "#Displaying pair wise frequency based on Gender and Geography\n",
    "\n",
    "dfc.crosstab(\"Gender\", \"Geography\").show()"
   ]
  },
  {
   "cell_type": "code",
   "execution_count": 90,
   "id": "2e35bfa4-ce54-40e0-b2c9-13d1bf6374ac",
   "metadata": {},
   "outputs": [
    {
     "name": "stdout",
     "output_type": "stream",
     "text": [
      "+---------+----------+----------+-----------+---------+------+---+------+---------+-------------+--------------+---------------+------+\n",
      "|RowNumber|CustomerId|   Surname|CreditScore|Geography|Gender|Age|Tenure|  Balance|NumOfProducts|IsActiveMember|EstimatedSalary|Exited|\n",
      "+---------+----------+----------+-----------+---------+------+---+------+---------+-------------+--------------+---------------+------+\n",
      "|     3272|  15708791|     Abazu|        584|    Spain|  Male| 32|     9| 85534.83|            1|             0|      169137.24|     0|\n",
      "|      842|  15737792|     Abbie|        818|   France|Female| 31|     1|186796.37|            1|             0|      178252.63|     0|\n",
      "|     2538|  15723706|    Abbott|        573|   France|Female| 33|     0| 90124.64|            1|             0|      137476.71|     0|\n",
      "|     8485|  15601012|  Abdullah|        802|   France|Female| 60|     3| 92887.06|            1|             0|       39473.63|     1|\n",
      "|     6085|  15619494|   Abdulov|        562|  Germany|Female| 31|     9| 117153.0|            1|             1|      108675.01|     0|\n",
      "|     4457|  15724428|      Abel|        544|   France|  Male| 40|     8|      0.0|            2|             0|        61581.2|     0|\n",
      "|     8396|  15586069| Abernathy|        560|   France|Female| 30|     0|108883.29|            1|             0|       27914.95|     0|\n",
      "|     1162|  15781802|   Abramov|        755|   France|  Male| 41|     6|104817.41|            1|             0|      126013.58|     1|\n",
      "|     5461|  15668894|  Abramova|        661|  Germany|  Male| 41|     5|122552.48|            2|             1|       120646.4|     0|\n",
      "|     1043|  15593969|Abramovich|        630|    Spain|Female| 39|     7|135483.17|            1|             0|       140881.2|     1|\n",
      "|     3269|  15611430|Abramowitz|        690|   France|  Male| 54|     5|      0.0|            1|             0|       12847.61|     1|\n",
      "|     8952|  15636388|    Abrego|        702|  Germany|Female| 23|     7| 98775.23|            1|             0|      114603.96|     0|\n",
      "|     8387|  15641110|     Abron|        708|   France|  Male| 41|     0|      0.0|            1|             0|      128400.62|     0|\n",
      "|      683|  15775238|    Achebe|        651|  Germany|Female| 41|     4|133432.59|            1|             1|      151303.48|     0|\n",
      "|     3467|  15631339|     Adams|        791|   France|  Male| 28|     4|      0.0|            1|             0|      174435.48|     0|\n",
      "|     3601|  15573599|   Adamson|        506|   France|Female| 57|     6|      0.0|            2|             1|      194421.12|     1|\n",
      "|     7743|  15571940| Afamefula|        579|    Spain|  Male| 22|     3|118680.57|            1|             1|        49829.8|     0|\n",
      "|     1794|  15777922| Afamefuna|        629|    Spain|  Male| 36|     1|161757.87|            2|             1|      146371.72|     0|\n",
      "|     7471|  15602456| Afanasyev|        850|  Germany|Female| 47|     4| 99219.47|            2|             1|      122141.13|     0|\n",
      "|     5765|  15791851|Afanasyeva|        726|   France|Female| 34|     0|185734.75|            1|             1|      102036.82|     0|\n",
      "+---------+----------+----------+-----------+---------+------+---+------+---------+-------------+--------------+---------------+------+\n",
      "only showing top 20 rows\n",
      "\n"
     ]
    }
   ],
   "source": [
    "#Removing dublicate Users with same surname\n",
    "\n",
    "dfc.dropDuplicates([\"Surname\"]).show()"
   ]
  },
  {
   "cell_type": "raw",
   "id": "c33a60b0-0b08-4e4f-a5fa-bd857860ab64",
   "metadata": {},
   "source": []
  },
  {
   "cell_type": "markdown",
   "id": "ad7a41d5",
   "metadata": {},
   "source": [
    "# TRANSACTION DATASET #"
   ]
  },
  {
   "cell_type": "code",
   "execution_count": 4,
   "id": "063511d6",
   "metadata": {},
   "outputs": [],
   "source": [
    "txn = spark.read.csv(\"txn.csv\", inferSchema=True, header =True)"
   ]
  },
  {
   "cell_type": "code",
   "execution_count": 76,
   "id": "9fa12b51",
   "metadata": {},
   "outputs": [
    {
     "name": "stdout",
     "output_type": "stream",
     "text": [
      "root\n",
      " |-- Account No: string (nullable = true)\n",
      " |-- TRANSACTION DETAILS: string (nullable = true)\n",
      " |-- VALUE DATE: string (nullable = true)\n",
      " |--  WITHDRAWAL AMT : double (nullable = true)\n",
      " |--  DEPOSIT AMT : double (nullable = true)\n",
      " |-- BALANCE AMT: double (nullable = true)\n",
      "\n"
     ]
    }
   ],
   "source": [
    "txn.printSchema()"
   ]
  },
  {
   "cell_type": "code",
   "execution_count": 20,
   "id": "d300ed97",
   "metadata": {},
   "outputs": [
    {
     "name": "stdout",
     "output_type": "stream",
     "text": [
      "+-------------+-----+\n",
      "|   Account No|count|\n",
      "+-------------+-----+\n",
      "|409000438611'| 4588|\n",
      "|     1196711'|10536|\n",
      "|     1196428'|48779|\n",
      "|409000493210'| 6014|\n",
      "|409000611074'| 1093|\n",
      "|409000425051'|  802|\n",
      "|409000405747'|   51|\n",
      "|409000493201'| 1044|\n",
      "|409000438620'|13454|\n",
      "|409000362497'|29840|\n",
      "+-------------+-----+\n",
      "\n"
     ]
    }
   ],
   "source": [
    "#COUNT OF TRANSACTION ON EVERY ACCOUNT\n",
    "txn.groupBy(\"Account No\").count().show()"
   ]
  },
  {
   "cell_type": "code",
   "execution_count": 26,
   "id": "ee0d20e4",
   "metadata": {},
   "outputs": [
    {
     "name": "stdout",
     "output_type": "stream",
     "text": [
      "+-------------+---------------------+\n",
      "|   Account No|max( WITHDRAWAL AMT )|\n",
      "+-------------+---------------------+\n",
      "|     1196711'|        4.594475464E8|\n",
      "|409000438620'|                4.0E8|\n",
      "|409000425051'|               3.54E8|\n",
      "|409000438611'|                2.4E8|\n",
      "|409000405747'|                1.7E8|\n",
      "|     1196428'|                1.5E8|\n",
      "|409000362497'|        1.413662392E8|\n",
      "|409000493210'|                1.5E7|\n",
      "|409000493201'|            2500000.0|\n",
      "|409000611074'|             912000.0|\n",
      "+-------------+---------------------+\n",
      "\n"
     ]
    }
   ],
   "source": [
    "#Maximum withdrawal amount\n",
    "txn.groupBy(\"Account No\").max(\" WITHDRAWAL AMT \").orderBy(\"max( WITHDRAWAL AMT )\", ascending = False).show()"
   ]
  },
  {
   "cell_type": "code",
   "execution_count": 24,
   "id": "28e855b8",
   "metadata": {},
   "outputs": [
    {
     "name": "stdout",
     "output_type": "stream",
     "text": [
      "+-------------+---------------------+\n",
      "|   Account No|min( WITHDRAWAL AMT )|\n",
      "+-------------+---------------------+\n",
      "|409000493210'|                 0.01|\n",
      "|409000438611'|                  0.2|\n",
      "|     1196711'|                 0.25|\n",
      "|     1196428'|                 0.25|\n",
      "|409000438620'|                 0.34|\n",
      "|409000362497'|                 0.97|\n",
      "|409000425051'|                 1.25|\n",
      "|409000493201'|                  2.1|\n",
      "|409000405747'|                 21.0|\n",
      "|409000611074'|                120.0|\n",
      "+-------------+---------------------+\n",
      "\n"
     ]
    }
   ],
   "source": [
    "#MINIMUM WITHDRAWAL AMOUNT OF AN ACCOUNT\n",
    "txn.groupBy(\"Account No\").min(\" WITHDRAWAL AMT \").orderBy(\"min( WITHDRAWAL AMT )\").show()"
   ]
  },
  {
   "cell_type": "code",
   "execution_count": 28,
   "id": "33512ac1",
   "metadata": {
    "scrolled": true
   },
   "outputs": [
    {
     "name": "stdout",
     "output_type": "stream",
     "text": [
      "+-------------+------------------+\n",
      "|   Account No|max( DEPOSIT AMT )|\n",
      "+-------------+------------------+\n",
      "|409000438620'|           5.448E8|\n",
      "|     1196711'|             5.0E8|\n",
      "|     1196428'|     2.119594422E8|\n",
      "|409000405747'|           2.021E8|\n",
      "|409000362497'|             2.0E8|\n",
      "|409000438611'|          1.7025E8|\n",
      "|409000425051'|             1.5E7|\n",
      "|409000493210'|             1.5E7|\n",
      "|409000611074'|         3000000.0|\n",
      "|409000493201'|         1000000.0|\n",
      "+-------------+------------------+\n",
      "\n"
     ]
    }
   ],
   "source": [
    "#MAXIMUM DEPOSIT AMOUNT OF AN ACCOUNT\n",
    "txn.groupBy(\"Account No\").max(\" DEPOSIT AMT \").orderBy(\"max( DEPOSIT AMT )\", ascending = False).show()"
   ]
  },
  {
   "cell_type": "code",
   "execution_count": 29,
   "id": "35a6e8a8",
   "metadata": {},
   "outputs": [
    {
     "name": "stdout",
     "output_type": "stream",
     "text": [
      "+-------------+------------------+\n",
      "|   Account No|min( DEPOSIT AMT )|\n",
      "+-------------+------------------+\n",
      "|409000493210'|              0.01|\n",
      "|409000438611'|              0.03|\n",
      "|409000362497'|              0.03|\n",
      "|409000438620'|              0.07|\n",
      "|409000493201'|               0.9|\n",
      "|     1196428'|               1.0|\n",
      "|409000425051'|               1.0|\n",
      "|     1196711'|              1.01|\n",
      "|409000405747'|             500.0|\n",
      "|409000611074'|            1320.0|\n",
      "+-------------+------------------+\n",
      "\n"
     ]
    }
   ],
   "source": [
    "#MINIMUM DEPOSIT AMOUNT OF AN ACCOUNT\n",
    "txn.groupBy(\"Account No\").min(\" DEPOSIT AMT \").orderBy(\"min( DEPOSIT AMT )\").show()"
   ]
  },
  {
   "cell_type": "code",
   "execution_count": 22,
   "id": "9995fde7",
   "metadata": {},
   "outputs": [
    {
     "name": "stdout",
     "output_type": "stream",
     "text": [
      "+-------------+--------------------+\n",
      "|   Account No|    sum(BALANCE AMT)|\n",
      "+-------------+--------------------+\n",
      "|409000438611'|-2.49486577068339...|\n",
      "|     1196711'|-1.60476498101275E13|\n",
      "|     1196428'| -8.1418498130721E13|\n",
      "|409000493210'|-3.27584952132095...|\n",
      "|409000611074'|       1.615533622E9|\n",
      "|409000425051'|-3.77211841164998...|\n",
      "|409000405747'|-2.43108047067000...|\n",
      "|409000493201'|1.0420831829499985E9|\n",
      "|409000438620'|-7.12291867951358...|\n",
      "|409000362497'| -5.2860004792808E13|\n",
      "+-------------+--------------------+\n",
      "\n"
     ]
    }
   ],
   "source": [
    "#sum of balance in every bank account\n",
    "txn.groupBy(\"Account No\").sum(\"BALANCE AMT\").show()"
   ]
  },
  {
   "cell_type": "code",
   "execution_count": 32,
   "id": "ed63952b",
   "metadata": {
    "scrolled": true
   },
   "outputs": [
    {
     "name": "stdout",
     "output_type": "stream",
     "text": [
      "+----------+-----+\n",
      "|VALUE DATE|count|\n",
      "+----------+-----+\n",
      "| 27-Jul-17|  567|\n",
      "| 13-Aug-18|  463|\n",
      "|  8-Nov-17|  402|\n",
      "|  7-Oct-17|  382|\n",
      "| 10-Jul-18|  374|\n",
      "| 12-Dec-17|  367|\n",
      "| 12-Sep-18|  365|\n",
      "|  9-Aug-18|  360|\n",
      "| 19-Sep-17|  358|\n",
      "| 16-Mar-17|  353|\n",
      "| 10-Sep-18|  344|\n",
      "| 14-Jul-17|  333|\n",
      "|  7-Mar-18|  319|\n",
      "| 11-Oct-18|  303|\n",
      "| 22-Aug-17|  301|\n",
      "|  9-Jan-18|  299|\n",
      "|  9-Oct-18|  297|\n",
      "| 20-Apr-18|  296|\n",
      "|  9-Jul-18|  292|\n",
      "|  7-Apr-18|  291|\n",
      "+----------+-----+\n",
      "only showing top 20 rows\n",
      "\n"
     ]
    }
   ],
   "source": [
    "#Number of transaction on each date\n",
    "txn.groupBy(\"VALUE DATE\").count().orderBy(\"count\", ascending = False).show()"
   ]
  },
  {
   "cell_type": "code",
   "execution_count": 33,
   "id": "3e036ee6",
   "metadata": {},
   "outputs": [
    {
     "name": "stdout",
     "output_type": "stream",
     "text": [
      "+-------------+--------------------+----------------+\n",
      "|   Account No| TRANSACTION DETAILS| WITHDRAWAL AMT |\n",
      "+-------------+--------------------+----------------+\n",
      "|409000611074'|INDO GIBL Indiafo...|        133900.0|\n",
      "|409000611074'|INDO GIBL Indiafo...|        195800.0|\n",
      "|409000611074'|INDO GIBL Indiafo...|        143800.0|\n",
      "|409000611074'|INDO GIBL Indiafo...|        331650.0|\n",
      "|409000611074'|INDO GIBL Indiafo...|        129000.0|\n",
      "|409000611074'|INDO GIBL Indiafo...|        230013.0|\n",
      "|409000611074'|INDO GIBL Indiafo...|        367900.0|\n",
      "|409000611074'|INDO GIBL Indiafo...|        108000.0|\n",
      "|409000611074'|INDO GIBL Indiafo...|        141000.0|\n",
      "|409000611074'|INDO GIBL Indiafo...|        206000.0|\n",
      "|409000611074'|INDO GIBL Indiafo...|        242300.0|\n",
      "|409000611074'|INDO GIBL Indiafo...|        113250.0|\n",
      "|409000611074'|INDO GIBL Indiafo...|        206900.0|\n",
      "|409000611074'|INDO GIBL Indiafo...|        276000.0|\n",
      "|409000611074'|INDO GIBL Indiafo...|        171000.0|\n",
      "|409000611074'|INDO GIBL Indiafo...|        189800.0|\n",
      "|409000611074'|INDO GIBL Indiafo...|        271323.0|\n",
      "|409000611074'|INDO GIBL Indiafo...|        200600.0|\n",
      "|409000611074'|INDO GIBL Indiafo...|        176900.0|\n",
      "|409000611074'|INDO GIBL Indiafo...|        150050.0|\n",
      "+-------------+--------------------+----------------+\n",
      "only showing top 20 rows\n",
      "\n"
     ]
    }
   ],
   "source": [
    "#List of customers with withdrawal amount more than 1 lakh\n",
    "txn.select(\"Account No\",\"TRANSACTION DETAILS\",\" WITHDRAWAL AMT \").filter(txn[\" WITHDRAWAL AMT \"]>100000).show()"
   ]
  },
  {
   "cell_type": "code",
   "execution_count": 101,
   "id": "240c8553-05d6-46be-93b9-53a32b80c78d",
   "metadata": {},
   "outputs": [
    {
     "name": "stdout",
     "output_type": "stream",
     "text": [
      "+-------------+--------------------+----------+----------------+-------------+-----------+\n",
      "|   Account No| TRANSACTION DETAILS|VALUE DATE| WITHDRAWAL AMT | DEPOSIT AMT |BALANCE AMT|\n",
      "+-------------+--------------------+----------+----------------+-------------+-----------+\n",
      "|409000611074'|INDO GIBL Indiafo...| 16-Aug-17|        133900.0|         null|  8366100.0|\n",
      "|409000611074'|INDO GIBL Indiafo...| 16-Aug-17|         18000.0|         null|  8348100.0|\n",
      "|409000611074'|INDO GIBL Indiafo...| 16-Aug-17|          5000.0|         null|  8343100.0|\n",
      "|409000611074'|INDO GIBL Indiafo...| 16-Aug-17|        195800.0|         null|  8147300.0|\n",
      "|409000611074'|INDO GIBL Indiafo...| 16-Aug-17|         81600.0|         null|  8065700.0|\n",
      "|409000611074'|INDO GIBL Indiafo...| 16-Aug-17|         41800.0|         null|  8023900.0|\n",
      "|409000611074'|INDO GIBL Indiafo...| 16-Aug-17|         98500.0|         null|  7925400.0|\n",
      "|409000611074'|INDO GIBL Indiafo...| 16-Aug-17|        143800.0|         null|  7781600.0|\n",
      "|409000611074'|INDO GIBL Indiafo...| 16-Aug-17|        331650.0|         null|  7449950.0|\n",
      "|409000611074'|INDO GIBL Indiafo...| 16-Aug-17|        129000.0|         null|  7320950.0|\n",
      "|409000611074'|INDO GIBL Indiafo...| 16-Aug-17|        230013.0|         null|  7090937.0|\n",
      "|409000611074'|INDO GIBL Indiafo...| 16-Aug-17|        367900.0|         null|  6723037.0|\n",
      "|409000611074'|INDO GIBL Indiafo...| 16-Aug-17|        108000.0|         null|  6615037.0|\n",
      "|409000611074'|INDO GIBL Indiafo...| 16-Aug-17|         64800.0|         null|  6550237.0|\n",
      "|409000611074'|INDO GIBL Indiafo...| 16-Aug-17|        141000.0|         null|  6409237.0|\n",
      "|409000611074'|INDO GIBL Indiafo...| 16-Aug-17|         61750.0|         null|  6347487.0|\n",
      "|409000611074'|INDO GIBL Indiafo...| 16-Aug-17|         67920.0|         null|  6279567.0|\n",
      "|409000611074'|INDO GIBL Indiafo...| 16-Aug-17|         78100.0|         null|  6201467.0|\n",
      "|409000611074'|INDO GIBL Indiafo...| 16-Aug-17|         35650.0|         null|  6165817.0|\n",
      "|409000611074'|INDO GIBL Indiafo...| 16-Aug-17|        206000.0|         null|  5959817.0|\n",
      "+-------------+--------------------+----------+----------------+-------------+-----------+\n",
      "only showing top 20 rows\n",
      "\n"
     ]
    }
   ],
   "source": [
    "#Displaying only those records having null values corresponding to withdrawal amount\n",
    "\n",
    "txn.dropna(subset=[' WITHDRAWAL AMT ']).show()"
   ]
  },
  {
   "cell_type": "code",
   "execution_count": 10,
   "id": "f40022ea-6164-4656-b9c7-d343604a118c",
   "metadata": {},
   "outputs": [
    {
     "name": "stdout",
     "output_type": "stream",
     "text": [
      "+-----------+---+------+--------------------+--------------+-----------+------+-----------+-------------+----------------+-----------+-------+------------+----------------+------------------+\n",
      "|Customer_ID|Age|Gender|          Occupation|Marital Status|Family Size|Income|Expenditure|Use Frequency|   Loan Category|Loan Amount|Overdue| Debt Record| Returned Cheque| Dishonour of Bill|\n",
      "+-----------+---+------+--------------------+--------------+-----------+------+-----------+-------------+----------------+-----------+-------+------------+----------------+------------------+\n",
      "|    IB14326| 37|  MALE|              DOCTOR|        SINGLE|          2| 56856|      23678|            7|      TRAVELLING|    588,690|      8|       87171|               4|                 3|\n",
      "|    IB14655| 52|FEMALE|        BANK MANAGER|        SINGLE|          3| 68918|      30676|            5|      AUTOMOBILE|  1,265,945|      5|       16997|               5|                 4|\n",
      "|    IB14489| 24|  MALE|             TEACHER|        SINGLE|          5| 74609|      20444|            4|     RESTAURANTS|    507,036|      2|       51858|               0|                 3|\n",
      "|    IB14737| 54|FEMALE|              POLICE|        SINGLE|          6| 62641|      36687|            4|         HOUSING|    898,353|      2|       26901|               1|                 3|\n",
      "|    IB14704| 48|  MALE|           EXECUTIVE|        SINGLE|          2| 57460|      48959|            2|        BUSINESS|  1,073,372|      5|       72858|               1|                 5|\n",
      "|    IB14667| 30|  MALE|AGRICULTURAL ENGI...|        SINGLE|          6| 85289|      49481|            3|         HOUSING|    679,588|      1|       21091|               3|                 3|\n",
      "|    IB14032| 24|  MALE|        DATA ANALYST|        SINGLE|          4| 60111|      28999|            6|      AUTOMOBILE|     35,232|      5|      33,333|               1|                 2|\n",
      "|    IB14220| 30|FEMALE|             DENTIST|        SINGLE|          3| 58450|      27675|            5|      TRAVELLING|     75,000|      6|      20,876|               3|                 1|\n",
      "|    IB14843| 43|  MALE|              DOCTOR|        SINGLE|          4| 50407|      34413|            4|     AGRICULTURE|  1,143,937|      9|       57977|               9|                 1|\n",
      "|    IB14729| 58|  MALE| CHARTERED APPRAISER|        SINGLE|          5| 70952|      15709|            9|      RESTAURANT|    204,833|      5|       20711|               5|                 4|\n",
      "|    IB14216| 24|  MALE|        DATA ANALYST|        SINGLE|          4| 60111|      28999|            6|     RESTAURANTS|     35,232|      5|      33,333|               1|                 2|\n",
      "|    IB14585| 52|FEMALE|               PILOT|        SINGLE|          7| 91853|      39629|            4|      RESTAURANT|  1,392,577|      6|       85269|               4|                 8|\n",
      "|    IB14991| 52|  MALE|               PILOT|        SINGLE|          7| 95853|      49629|            4|         HOUSING|  1,392,577|      6|       25269|               4|                 8|\n",
      "|    IB14697| 39|FEMALE|                NAVY|        SINGLE|          4| 77699|      12482|            3|      AUTOMOBILE|  1,410,206|      9|       57206|               2|                 8|\n",
      "|    IB15009| 48|  MALE|           EXECUTIVE|        SINGLE|          2| 67460|      45959|            2|        BUSINESS|  1,173,372|      5|       62858|               1|                 5|\n",
      "|    IB14699| 45|FEMALE|   SOFTWARE ENGINEER|        SINGLE|          4| 98199|      43464|            9|     ELECTRONICS|  1,719,010|      3|       86384|               4|                 8|\n",
      "|    IB14953| 29|  MALE|   SOFTWARE ENGINEER|        SINGLE|          5| 50454|      32210|            4|        SHOPPING|    763,036|      6|       36762|               7|                 9|\n",
      "|    IB14869| 44|  MALE|               CLERK|        SINGLE|          5| 51555|      12052|            2|EDUCATIONAL LOAN|  1,377,455|      8|       29981|               1|                 8|\n",
      "|    IB14889| 41|FEMALE|           DIETICIAN|        SINGLE|          3| 96501|      41529|            6|       GOLD LOAN|  1,694,354|      3|       35876|               2|                 8|\n",
      "|    IB14809| 28|FEMALE|          ACCOUNTANT|        SINGLE|          3| 76844|      27358|            7|      RESTAURANT|  1,582,924|      1|       73033|               2|                 1|\n",
      "+-----------+---+------+--------------------+--------------+-----------+------+-----------+-------------+----------------+-----------+-------+------------+----------------+------------------+\n",
      "only showing top 20 rows\n",
      "\n"
     ]
    }
   ],
   "source": [
    "#Displaying Single users with income more than 50,000\n",
    "\n",
    "rdd1 = df.filter(df[\"Marital Status\"]==\"SINGLE\")\n",
    "rdd2 = df.filter(df[\"Income\"]>\"50000\")\n",
    "result = rdd1.intersect(rdd2)\n",
    "result.show()"
   ]
  },
  {
   "cell_type": "code",
   "execution_count": 106,
   "id": "d6aa30d9-4fe8-4299-804f-e40845597cb6",
   "metadata": {},
   "outputs": [
    {
     "name": "stdout",
     "output_type": "stream",
     "text": [
      "+----------------+-------------+-----------+\n",
      "| WITHDRAWAL AMT | DEPOSIT AMT |BALANCE AMT|\n",
      "+----------------+-------------+-----------+\n",
      "|            null|    1000000.0|  1000000.0|\n",
      "|            null|    1000000.0|  2000000.0|\n",
      "|            null|     500000.0|  2500000.0|\n",
      "|            null|    3000000.0|  5500000.0|\n",
      "|            null|     500000.0|  6000000.0|\n",
      "|            null|     500000.0|  6500000.0|\n",
      "|            null|     500000.0|  7000000.0|\n",
      "|            null|     500000.0|  7500000.0|\n",
      "|            null|     500000.0|  8000000.0|\n",
      "|            null|     500000.0|  8500000.0|\n",
      "|        133900.0|         null|  8366100.0|\n",
      "|         18000.0|         null|  8348100.0|\n",
      "|          5000.0|         null|  8343100.0|\n",
      "|        195800.0|         null|  8147300.0|\n",
      "|         81600.0|         null|  8065700.0|\n",
      "|         41800.0|         null|  8023900.0|\n",
      "|         98500.0|         null|  7925400.0|\n",
      "|        143800.0|         null|  7781600.0|\n",
      "|        331650.0|         null|  7449950.0|\n",
      "|        129000.0|         null|  7320950.0|\n",
      "+----------------+-------------+-----------+\n",
      "only showing top 20 rows\n",
      "\n"
     ]
    }
   ],
   "source": [
    "#Displaying only transaction related informations using colRegex \n",
    "\n",
    "txn.select(txn.colRegex(\"`^.*AMT.*`\")).show()"
   ]
  },
  {
   "cell_type": "code",
   "execution_count": 108,
   "id": "93f4fa50-0ec9-4e5d-928a-f5c980a387c6",
   "metadata": {},
   "outputs": [
    {
     "name": "stdout",
     "output_type": "stream",
     "text": [
      "+-------+-------------+--------------------+----------+--------------------+-----------------+--------------------+\n",
      "|summary|   Account No| TRANSACTION DETAILS|VALUE DATE|     WITHDRAWAL AMT |     DEPOSIT AMT |         BALANCE AMT|\n",
      "+-------+-------------+--------------------+----------+--------------------+-----------------+--------------------+\n",
      "|  count|       116201|              113702|    116201|               53549|            62652|              116201|\n",
      "|   mean|         null|3.675022545399418E15|      null|   4489189.943506325|3806585.828440277|-1.40485204095910...|\n",
      "| stddev|         null|1.493425698537586...|      null|1.0848504204717927E7|8683093.407864038| 5.348201823458226E8|\n",
      "|    min|     1196428'|(SR1239979079) RE...|  1-Apr-17|                0.01|             0.01|      -2.045201142E9|\n",
      "|    25%|         null|             6.33E11|      null|              3000.0|         98962.35|       -1.69038345E9|\n",
      "|    50%|         null|             7.21E11|      null|             47050.0|        426223.73|      -1.661423952E9|\n",
      "|    75%|         null|             7.25E11|      null|           5000000.0|       4743385.48|      -1.237991316E9|\n",
      "|    max|409000611074'|ZEN LEFIN PVT LTD...|  9-Sep-16|       4.594475464E8|          5.448E8|           8500000.0|\n",
      "+-------+-------------+--------------------+----------+--------------------+-----------------+--------------------+\n",
      "\n"
     ]
    }
   ],
   "source": [
    "#Showing summary of tansaction dataset\n",
    "\n",
    "txn.summary().show()"
   ]
  },
  {
   "cell_type": "code",
   "execution_count": 109,
   "id": "cef133b5-e6b3-4674-be85-093f20477b72",
   "metadata": {},
   "outputs": [
    {
     "name": "stdout",
     "output_type": "stream",
     "text": [
      "+--------------+--------------------+----------+----------------+-------------+-----------+\n",
      "|ACCOUNT NUMBER| TRANSACTION DETAILS|VALUE DATE| WITHDRAWAL AMT | DEPOSIT AMT |BALANCE AMT|\n",
      "+--------------+--------------------+----------+----------------+-------------+-----------+\n",
      "| 409000611074'|TRF FROM  Indiafo...| 29-Jun-17|            null|    1000000.0|  1000000.0|\n",
      "| 409000611074'|TRF FROM  Indiafo...|  5-Jul-17|            null|    1000000.0|  2000000.0|\n",
      "| 409000611074'|FDRL/INTERNAL FUN...| 18-Jul-17|            null|     500000.0|  2500000.0|\n",
      "| 409000611074'|TRF FRM  Indiafor...|  1-Aug-17|            null|    3000000.0|  5500000.0|\n",
      "| 409000611074'|FDRL/INTERNAL FUN...| 16-Aug-17|            null|     500000.0|  6000000.0|\n",
      "| 409000611074'|FDRL/INTERNAL FUN...| 16-Aug-17|            null|     500000.0|  6500000.0|\n",
      "| 409000611074'|FDRL/INTERNAL FUN...| 16-Aug-17|            null|     500000.0|  7000000.0|\n",
      "| 409000611074'|FDRL/INTERNAL FUN...| 16-Aug-17|            null|     500000.0|  7500000.0|\n",
      "| 409000611074'|FDRL/INTERNAL FUN...| 16-Aug-17|            null|     500000.0|  8000000.0|\n",
      "| 409000611074'|FDRL/INTERNAL FUN...| 16-Aug-17|            null|     500000.0|  8500000.0|\n",
      "| 409000611074'|INDO GIBL Indiafo...| 16-Aug-17|        133900.0|         null|  8366100.0|\n",
      "| 409000611074'|INDO GIBL Indiafo...| 16-Aug-17|         18000.0|         null|  8348100.0|\n",
      "| 409000611074'|INDO GIBL Indiafo...| 16-Aug-17|          5000.0|         null|  8343100.0|\n",
      "| 409000611074'|INDO GIBL Indiafo...| 16-Aug-17|        195800.0|         null|  8147300.0|\n",
      "| 409000611074'|INDO GIBL Indiafo...| 16-Aug-17|         81600.0|         null|  8065700.0|\n",
      "| 409000611074'|INDO GIBL Indiafo...| 16-Aug-17|         41800.0|         null|  8023900.0|\n",
      "| 409000611074'|INDO GIBL Indiafo...| 16-Aug-17|         98500.0|         null|  7925400.0|\n",
      "| 409000611074'|INDO GIBL Indiafo...| 16-Aug-17|        143800.0|         null|  7781600.0|\n",
      "| 409000611074'|INDO GIBL Indiafo...| 16-Aug-17|        331650.0|         null|  7449950.0|\n",
      "| 409000611074'|INDO GIBL Indiafo...| 16-Aug-17|        129000.0|         null|  7320950.0|\n",
      "+--------------+--------------------+----------+----------------+-------------+-----------+\n",
      "only showing top 20 rows\n",
      "\n"
     ]
    }
   ],
   "source": [
    "#Displaying data with renamed column name\n",
    "\n",
    "txn.withColumnRenamed(\"Account No\", \"ACCOUNT NUMBER\").show()"
   ]
  },
  {
   "cell_type": "code",
   "execution_count": 113,
   "id": "c9d450e7-3cb8-4f7d-a7d2-daeb33f07167",
   "metadata": {},
   "outputs": [
    {
     "data": {
      "text/plain": [
       "Row(Account No=\"409000611074'\", TRANSACTION DETAILS='TRF FROM  Indiaforensic SERVICES', VALUE DATE='29-Jun-17',  WITHDRAWAL AMT =None,  DEPOSIT AMT =1000000.0, BALANCE AMT=1000000.0)"
      ]
     },
     "execution_count": 113,
     "metadata": {},
     "output_type": "execute_result"
    }
   ],
   "source": [
    "#Showing only first record of dataset\n",
    "\n",
    "txn.first()"
   ]
  },
  {
   "cell_type": "code",
   "execution_count": 116,
   "id": "c4809c8d-f49a-4689-8192-0792a7e47e77",
   "metadata": {},
   "outputs": [
    {
     "data": {
      "text/plain": [
       "DataFrame[summary: string,  WITHDRAWAL AMT : string]"
      ]
     },
     "execution_count": 116,
     "metadata": {},
     "output_type": "execute_result"
    }
   ],
   "source": [
    "#Displaying summary of particular column field\n",
    "\n",
    "txn.describe(\" WITHDRAWAL AMT \")"
   ]
  },
  {
   "cell_type": "code",
   "execution_count": 6,
   "id": "0ba22f7c-4692-4c3d-bc6b-824d0f29cdcf",
   "metadata": {},
   "outputs": [
    {
     "name": "stdout",
     "output_type": "stream",
     "text": [
      "+-------------+--------------------+----------+----------------+-------------+-----------+\n",
      "|   Account No| TRANSACTION DETAILS|VALUE DATE| WITHDRAWAL AMT | DEPOSIT AMT |BALANCE AMT|\n",
      "+-------------+--------------------+----------+----------------+-------------+-----------+\n",
      "|409000611074'|TRF FROM  Indiafo...| 29-Jun-17|             0.0|    1000000.0|  1000000.0|\n",
      "|409000611074'|TRF FROM  Indiafo...|  5-Jul-17|             0.0|    1000000.0|  2000000.0|\n",
      "|409000611074'|FDRL/INTERNAL FUN...| 18-Jul-17|             0.0|     500000.0|  2500000.0|\n",
      "|409000611074'|TRF FRM  Indiafor...|  1-Aug-17|             0.0|    3000000.0|  5500000.0|\n",
      "|409000611074'|FDRL/INTERNAL FUN...| 16-Aug-17|             0.0|     500000.0|  6000000.0|\n",
      "|409000611074'|FDRL/INTERNAL FUN...| 16-Aug-17|             0.0|     500000.0|  6500000.0|\n",
      "|409000611074'|FDRL/INTERNAL FUN...| 16-Aug-17|             0.0|     500000.0|  7000000.0|\n",
      "|409000611074'|FDRL/INTERNAL FUN...| 16-Aug-17|             0.0|     500000.0|  7500000.0|\n",
      "|409000611074'|FDRL/INTERNAL FUN...| 16-Aug-17|             0.0|     500000.0|  8000000.0|\n",
      "|409000611074'|FDRL/INTERNAL FUN...| 16-Aug-17|             0.0|     500000.0|  8500000.0|\n",
      "|409000611074'|INDO GIBL Indiafo...| 16-Aug-17|        133900.0|          0.0|  8366100.0|\n",
      "|409000611074'|INDO GIBL Indiafo...| 16-Aug-17|         18000.0|          0.0|  8348100.0|\n",
      "|409000611074'|INDO GIBL Indiafo...| 16-Aug-17|          5000.0|          0.0|  8343100.0|\n",
      "|409000611074'|INDO GIBL Indiafo...| 16-Aug-17|        195800.0|          0.0|  8147300.0|\n",
      "|409000611074'|INDO GIBL Indiafo...| 16-Aug-17|         81600.0|          0.0|  8065700.0|\n",
      "|409000611074'|INDO GIBL Indiafo...| 16-Aug-17|         41800.0|          0.0|  8023900.0|\n",
      "|409000611074'|INDO GIBL Indiafo...| 16-Aug-17|         98500.0|          0.0|  7925400.0|\n",
      "|409000611074'|INDO GIBL Indiafo...| 16-Aug-17|        143800.0|          0.0|  7781600.0|\n",
      "|409000611074'|INDO GIBL Indiafo...| 16-Aug-17|        331650.0|          0.0|  7449950.0|\n",
      "|409000611074'|INDO GIBL Indiafo...| 16-Aug-17|        129000.0|          0.0|  7320950.0|\n",
      "+-------------+--------------------+----------+----------------+-------------+-----------+\n",
      "only showing top 20 rows\n",
      "\n"
     ]
    }
   ],
   "source": [
    "#Replacing Null value with 0\n",
    "\n",
    "txn.na.fill(0).show()"
   ]
  },
  {
   "cell_type": "code",
   "execution_count": null,
   "id": "e1351dbc-1433-4dc5-bf3b-0c424e5286c2",
   "metadata": {},
   "outputs": [],
   "source": []
  }
 ],
 "metadata": {
  "kernelspec": {
   "display_name": "Python 3",
   "language": "python",
   "name": "python3"
  },
  "language_info": {
   "codemirror_mode": {
    "name": "ipython",
    "version": 3
   },
   "file_extension": ".py",
   "mimetype": "text/x-python",
   "name": "python",
   "nbconvert_exporter": "python",
   "pygments_lexer": "ipython3",
   "version": "3.8.8"
  }
 },
 "nbformat": 4,
 "nbformat_minor": 5
}
